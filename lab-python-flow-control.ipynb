{
 "cells": [
  {
   "cell_type": "markdown",
   "id": "d3bfc191-8885-42ee-b0a0-bbab867c6f9f",
   "metadata": {
    "tags": []
   },
   "source": [
    "# Lab | Flow Control"
   ]
  },
  {
   "cell_type": "markdown",
   "id": "3e9ae30c-5fa9-4e5d-b26b-d33e899ae144",
   "metadata": {},
   "source": [
    "## Exercise: Managing Customer Orders Optimized\n",
    "\n",
    "In the last lab, you were starting an online store that sells various products. To ensure smooth operations, you developed a program that manages customer orders and inventory.\n",
    "\n",
    "You did so without using flow control. Let's go a step further and improve this code.\n",
    "\n",
    "Follow the steps below to complete the exercise:\n",
    "\n",
    "1. Look at your code from the lab data structures, and improve repeated code with loops."
   ]
  },
  {
   "cell_type": "code",
   "execution_count": 1,
   "id": "f2e49540",
   "metadata": {},
   "outputs": [
    {
     "name": "stdout",
     "output_type": "stream",
     "text": [
      "['t-shirt', 'mug', 'hat', 'book', 'keychain']\n",
      "{'t-shirt': 2, 'mug': 4, 'hat': 6, 'book': 8, 'keychain': 10}\n",
      "{'mug', 'hat', 'book'}\n",
      "Order Statistics: \n",
      "Total Products Ordered: 3\n",
      "Percentage of Products Ordered: 60.0%\n",
      "t-shirt: 2\n",
      "mug: 3\n",
      "hat: 5\n",
      "book: 7\n",
      "keychain: 10\n"
     ]
    }
   ],
   "source": [
    "products = [\"t-shirt\", \"mug\", \"hat\", \"book\", \"keychain\"]\n",
    "print(products)\n",
    "\n",
    "inventory = {}\n",
    "\n",
    "for product in products:\n",
    "    quantity = int(input(\"how many \" + product + \" are there?\"))\n",
    "    inventory[product] = quantity\n",
    "    \n",
    "print(inventory)\n",
    "\n",
    "customer_orders = set()\n",
    "\n",
    "while len(customer_orders) < 3:\n",
    "    pick = input(\"Choose a product from the list {}: \".format(products))\n",
    "    if pick in products:\n",
    "        customer_orders.add(pick)\n",
    "    else:\n",
    "        print(\"Please choose a valid product.\")\n",
    "\n",
    "print(customer_orders)\n",
    "\n",
    "total_order = len(customer_orders)\n",
    "porcentage_order = 100 * float(len(customer_orders))/float(len(products))\n",
    "\n",
    "order_status = (total_order, porcentage_order)\n",
    "\n",
    "print(\"Order Statistics: \\nTotal Products Ordered: \" + str(total_order) + \"\\nPercentage of Products Ordered: \" + str(porcentage_order) + \"%\")\n",
    "\n",
    "for product in customer_orders:\n",
    "    if product in inventory:\n",
    "        inventory[product] -= 1\n",
    "\n",
    "for product in inventory:\n",
    "    print(product + \":\", inventory[product])"
   ]
  },
  {
   "cell_type": "markdown",
   "id": "f824e53b-2704-40b0-8acb-e7f500579354",
   "metadata": {},
   "source": [
    "2. Instead of asking the user to input the name of three products that a customer wants to order, do the following:\n",
    "    \n",
    "    a. Prompt the user to enter the name of a product that a customer wants to order.\n",
    "    b. Add the product name to the \"customer_orders\" set.\n",
    "    c. Ask the user if they want to add another product (yes/no).\n",
    "    d. Continue the loop until the user does not want to add another product.\n"
   ]
  },
  {
   "cell_type": "code",
   "execution_count": 11,
   "id": "a3cbd79f",
   "metadata": {},
   "outputs": [
    {
     "name": "stdout",
     "output_type": "stream",
     "text": [
      "['t-shirt', 'mug', 'hat', 'book', 'keychain']\n",
      "{'t-shirt': 1, 'mug': 2, 'hat': 3, 'book': 4, 'keychain': 5}\n",
      "{'mug', 'hat'}\n"
     ]
    }
   ],
   "source": [
    "products = [\"t-shirt\", \"mug\", \"hat\", \"book\", \"keychain\"]\n",
    "print(products)\n",
    "\n",
    "inventory = {}\n",
    "\n",
    "for product in products:\n",
    "    quantity = int(input(\"how many \" + product + \" are there?\"))\n",
    "    inventory[product] = quantity\n",
    "    \n",
    "print(inventory)\n",
    "\n",
    "customer_orders = set()\n",
    "\n",
    "def pick_products():\n",
    "    pick = input(\"Choose a product from the list {}: \".format(products))\n",
    "    if pick in products:\n",
    "        customer_orders.add(pick)\n",
    "        more = input(\"Another one? yes/no\")\n",
    "        if more == \"yes\":\n",
    "            pick_products()\n",
    "        elif more == \"no\":\n",
    "            return\n",
    "        else:\n",
    "            print(\"please type yes or no\")\n",
    "            \n",
    "    else:\n",
    "        print(\"Please choose a valid product.\")\n",
    "\n",
    "pick_products()\n",
    "\n",
    "print(customer_orders)"
   ]
  },
  {
   "cell_type": "markdown",
   "id": "cda85ee2",
   "metadata": {},
   "source": [
    "3. Instead of updating the inventory by subtracting 1 from the quantity of each product, only do it for the products that were ordered (those in \"customer_orders\")."
   ]
  },
  {
   "cell_type": "code",
   "execution_count": 12,
   "id": "9afaf1f3",
   "metadata": {},
   "outputs": [
    {
     "name": "stdout",
     "output_type": "stream",
     "text": [
      "t-shirt: 1\n",
      "mug: 1\n",
      "hat: 2\n",
      "book: 4\n",
      "keychain: 5\n"
     ]
    }
   ],
   "source": [
    "for product in customer_orders:\n",
    "    if product in inventory:\n",
    "        inventory[product] -= 1\n",
    "\n",
    "for product in inventory:\n",
    "    print(product + \":\", inventory[product])"
   ]
  }
 ],
 "metadata": {
  "kernelspec": {
   "display_name": "Python 3",
   "language": "python",
   "name": "python3"
  },
  "language_info": {
   "codemirror_mode": {
    "name": "ipython",
    "version": 3
   },
   "file_extension": ".py",
   "mimetype": "text/x-python",
   "name": "python",
   "nbconvert_exporter": "python",
   "pygments_lexer": "ipython3",
   "version": "3.13.1"
  }
 },
 "nbformat": 4,
 "nbformat_minor": 5
}
